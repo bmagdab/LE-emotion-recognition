{
 "cells": [
  {
   "cell_type": "markdown",
   "metadata": {},
   "source": [
    "Wybieram najlepszy z zapisanych modeli:"
   ]
  },
  {
   "cell_type": "code",
   "execution_count": 1,
   "metadata": {},
   "outputs": [
    {
     "name": "stdout",
     "output_type": "stream",
     "text": [
      "the best model is model-15-537838 with accuracy 0.4143454038997214\n"
     ]
    }
   ],
   "source": [
    "import os\n",
    "import pandas as pd\n",
    "\n",
    "models_path = 'saved_models'\n",
    "accuracies = {}\n",
    "\n",
    "for model_name in os.listdir(models_path):\n",
    "    table = pd.read_csv(os.path.join(models_path, model_name, 'gridsearch.csv'))\n",
    "    accuracies[table.loc[table['model name'] == model_name, 'accuracy'].item()] = model_name\n",
    "\n",
    "model_name = accuracies[max(accuracies.keys())]\n",
    "print(f'the best model is {model_name} with accuracy {max(accuracies.keys())}')"
   ]
  },
  {
   "cell_type": "code",
   "execution_count": 2,
   "metadata": {},
   "outputs": [],
   "source": [
    "tokenizer_name = 'bardsai/twitter-sentiment-pl-base'\n",
    "file_path = '2024-emotion-recognition\\\\test-B\\in.tsv'"
   ]
  },
  {
   "cell_type": "code",
   "execution_count": 3,
   "metadata": {},
   "outputs": [
    {
     "name": "stdout",
     "output_type": "stream",
     "text": [
      "GPU NVIDIA GeForce GTX 1660 Ti will be used.\n"
     ]
    }
   ],
   "source": [
    "import torch\n",
    "import gc\n",
    "\n",
    "if torch.cuda.is_available():\n",
    "    gc.collect()\n",
    "    torch.cuda.empty_cache()\n",
    "    print(f'GPU {torch.cuda.get_device_name(0)} will be used.')\n",
    "    device = torch.device(\"cuda\")"
   ]
  },
  {
   "cell_type": "markdown",
   "metadata": {},
   "source": [
    "Ładuję model i tokenizer do pipeline, sprawdzam jak wyglądają wyniki."
   ]
  },
  {
   "cell_type": "code",
   "execution_count": 4,
   "metadata": {},
   "outputs": [
    {
     "name": "stderr",
     "output_type": "stream",
     "text": [
      "c:\\Users\\magda\\kogni\\inzynieria lingwistyczna\\zaliczenie\\.venv\\Lib\\site-packages\\tqdm\\auto.py:21: TqdmWarning: IProgress not found. Please update jupyter and ipywidgets. See https://ipywidgets.readthedocs.io/en/stable/user_install.html\n",
      "  from .autonotebook import tqdm as notebook_tqdm\n",
      "c:\\Users\\magda\\kogni\\inzynieria lingwistyczna\\zaliczenie\\.venv\\Lib\\site-packages\\transformers\\models\\bert\\modeling_bert.py:435: UserWarning: 1Torch was not compiled with flash attention. (Triggered internally at ..\\aten\\src\\ATen\\native\\transformers\\cuda\\sdp_utils.cpp:455.)\n",
      "  attn_output = torch.nn.functional.scaled_dot_product_attention(\n"
     ]
    },
    {
     "data": {
      "text/plain": [
       "[[{'label': 'Disgust', 'score': 0.9894058108329773},\n",
       "  {'label': 'Negative', 'score': 0.9815894961357117},\n",
       "  {'label': 'Sadness', 'score': 0.9735413789749146},\n",
       "  {'label': 'Joy', 'score': 0.2635478675365448},\n",
       "  {'label': 'Positive', 'score': 0.16346825659275055},\n",
       "  {'label': 'Surprise', 'score': 0.07592661678791046},\n",
       "  {'label': 'Anger', 'score': 0.029005680233240128},\n",
       "  {'label': 'Neutral', 'score': 0.011028997600078583},\n",
       "  {'label': 'Fear', 'score': 0.009845992550253868},\n",
       "  {'label': 'Anticipation', 'score': 0.008348705247044563},\n",
       "  {'label': 'Trust', 'score': 0.002228666329756379}]]"
      ]
     },
     "execution_count": 4,
     "metadata": {},
     "output_type": "execute_result"
    }
   ],
   "source": [
    "from transformers import BertForSequenceClassification, HerbertTokenizer, pipeline\n",
    "\n",
    "tokenizer = HerbertTokenizer.from_pretrained(tokenizer_name)\n",
    "model = BertForSequenceClassification.from_pretrained(os.path.join(models_path, model_name))\n",
    "\n",
    "sentence = 'Jedzenie codziennie to samo: mięso lub ryba, zupa jedna do wyboru.'\n",
    "\n",
    "nlp = pipeline(task='sentiment-analysis',\n",
    "               model=model,\n",
    "               tokenizer=tokenizer,\n",
    "               device=device,\n",
    "               top_k=11)\n",
    "result = nlp(sentence)\n",
    "result"
   ]
  },
  {
   "cell_type": "markdown",
   "metadata": {},
   "source": [
    "Definiuję funkcję, która przekształca wyniki z pipeline w odpowiedni sposób:"
   ]
  },
  {
   "cell_type": "code",
   "execution_count": 5,
   "metadata": {},
   "outputs": [],
   "source": [
    "def transform_results(result, preds_dict):\n",
    "    out_dict = {}\n",
    "    for res in result[0]:\n",
    "        out_dict[res['label']] = round(res['score'])\n",
    "    for label in preds_dict.keys():            \n",
    "            preds_dict[label].append(out_dict[label])"
   ]
  },
  {
   "cell_type": "markdown",
   "metadata": {},
   "source": [
    "Wczytuję dane do oznaczenia:"
   ]
  },
  {
   "cell_type": "code",
   "execution_count": 6,
   "metadata": {},
   "outputs": [
    {
     "data": {
      "text/plain": [
       "['Przez 12 lat leczyła mnie ze złym rozpoznaniem.\\nTeraz jestem leczony na prawidłową chorobę, biorę odpowiednie leki i od razu czuję się lepiej w porównaniu z tym co było.\\nPoza tym każda wizyta, nawet po 10 latach leczenia, wyglądała u niej jak pierwsza tzn nie pamiętała na co choruję, co mi dolega, jakie tabletki biorę.\\nNa dodatek pani doktor nie raczyła poinformować mnie też, że leki, które kazała mi brać, powodują uszkodzenia i zniekształcenia płodu! (na szczęście moja dziewczyna nie zaszła w ciążę)\\n',\n",
       " '\\nOSTRZEGAM!!\\nOrganizowałam w hotelu imprezę urodzinową na 40 osób.\\nPoniewaz impreza była tematyczna, w takim samym klimacie chciałam aby została poprowadzona.\\nDj którego zapewnił organizator bladego pojęcia nie miał jaka imprezę będzie prowadził, był kompletnie nieprzygotowany, trzykrotnie mylił imię jubilatki, a wszelkie wcześniejsze ustalenia i zapewnienia menadżera okazały się pustymi słowami.\\n\"Zaledwie po 3 godzinach \"\"zabawy\"\" usłyszałam, ze napoi zimnych nie otrzymamy ponieważ już się skończyły choć umowa zawierała informację ze mamy je bez limitu.\"\\nGdy następnego dnia próbowałam wyjaśnić cała sytuacje a przede wszystkim poinformować o wszystkim menadżera otrzymałam informacje, ze nieprawda jest to co mówię, napoi nikt nie obiecywał a żeby dodać sprawie pazura usłyszałam, ze jeden z moich gości nie uregulował należności za swój pokój.\\nKiedy go poinformowałam ze owy gość rachunek uregulował i mam na to dowód kontakt się urwał.\\n\"Mistrzostwem wszystkiego i podsumowaniem całości był fakt, ze po zakończonej imprezie poprosiłam obsługę o zapakowanie pozostałego jedzenia usłyszałam \"\"właśnie zostało wyrzucone\"\" Kpina i żenada.\"\\n',\n",
       " '\\nBut zewnętrznie robi piorunujące wrażenie.\\nPodeszwa Air Max oraz ten srebrny kolor, coś pięknego.\\nWydaje mi się ,że dzisiejszy rozmiar EU42 jest większy niż kiedyś.\\nBut wydaje się być dłuższy od kupionych podobnych Nike 2 lata temu w rozmiarze EU42.5 .\\nMusiałem sobie kupić wkładki, ponieważ moja stopa leży za nisko i but uginał się u góry podczas chodzenia.\\nNie wiem, co jeszcze powinienem napisać, buty nie są najwygodniejszymi jakie w życiu miałem jednak tragedii nie ma.\\nPodeszwa Air Max jest przydatna podczas skakania, jednak w butach chodzi się raczej twardo.\\n',\n",
       " '\\nJestem zawiedziona operacją wykonaną przez lekarza Naser Dib, operacja trwala bardzo krótko, lekarz zaznaczył kilka miejsc na nodze,aby usunąć w tych miejscach żylaki, pozostałe zignorowal, może tak musiał, bo było kilku pacjentów na zabiegi, a czas szybko leciał, a do domu daleko.\\nByła to moja druga noga operowana na żylaki.\\nPoprzednią nogę operował inny doktor - noga ta była dużo gorsza, więc była operowana w pierwszej kolejności, nie spieszyło się doktorowi , zaznaczył szczegółowo wszystkie miejsca z żylakami, a następnie je zoperował.\\nOperacja trwała prawie dwie godziny, dokładnie profesjonalnie, estetycznie wszystko wykonał, w przeciwieństwie do drugiego przypadku.\\nOd razu po operacji drugiej nogi nie byłam zadowolona -bo były pozostawione niedoróbki .Obecnie po przeszło 5 latach, noga operowana jako pierwsza wygląda dużo lepiej, niż ta operowana przez lekarza Nasera Dip.\\nPrzykro mi, ale nie będę polecała nikomu tego lekarza.Dip.\\nPacjentka niezadowolona.\\n',\n",
       " '\\nJestem pacjętką doktora od 3 lat i naprawdę jestem zadowolona jest miły kompetentny do gabinetu na babanie ide na luzie bez stresu :) prowadzi mi ciążę chodzę do gabinetu na św.wojciecha ale usg robiłam prywatnie w medicusie zależało mi na tym żeby zrobić usg 4D i mieć pewność że wszystko jest wporządku pierwsze usg robiłam w 12 tyg było ok następne w 18tyg pomierzył wszystko co trzeba powiedział że będe miała córcie ale nie podobało mu się serce więc podał mi namiary na bardzo dobrego specjalistę od echa serca płodu w szczecinie i miałam pojechać na wizytę w międzyczasie dowiedział się że ze skierowaniem nie będę musiała płacić za badanie wypisał mi skierowanie i powiedział żebym umówiła sie na wizytę w 20tyg a nastepnego dnia po wizycie w Szczecinie mam przyjść do gabinetu z opisem co i jak.Po badaniu w Szczecinie doktor stwierdził że plamka jest ale jest nie grożna kamień spadł mi z serca.Natępnego dnia poszłam do doktora z opisem od specjalisty ze Szczecina widziałam w jego oczach tez ulge że wszytko jest wporządku.Naprawdę szczerze polecam świetny doktor .\\n']"
      ]
     },
     "execution_count": 6,
     "metadata": {},
     "output_type": "execute_result"
    }
   ],
   "source": [
    "with open(file_path, encoding='utf-8') as file:\n",
    "    whole_text = file.read()\n",
    "    whole_text = whole_text[len('text\\n'):]\n",
    "    texts = whole_text.split('###########################')\n",
    "\n",
    "demo = texts[:5]\n",
    "demo"
   ]
  },
  {
   "cell_type": "markdown",
   "metadata": {},
   "source": [
    "Dostałam jeden błąd parę razy kiedy próbowałam przypisać etykiety za pomocą mojego modelu, poniżej jest najlepszy sposób jaki udało mi się wymyślić na radzenie sobie z tym błędem. "
   ]
  },
  {
   "cell_type": "code",
   "execution_count": 7,
   "metadata": {},
   "outputs": [],
   "source": [
    "import re\n",
    "\n",
    "def runtime_handle(error_message):\n",
    "    # for handling the errors of type 'The size of tensor a (760) must match the size of tensor b (514) at non-singleton dimension 1'\n",
    "    # which I think are thrown when the input is too long for the model to process\n",
    "    tensors = list(re.finditer('\\(\\d+\\)', error_message))\n",
    "    a = int(tensors[0].group()[1:-1])\n",
    "    b = int(tensors[1].group()[1:-1])\n",
    "    return (b*0.8)/a"
   ]
  },
  {
   "cell_type": "markdown",
   "metadata": {},
   "source": [
    "Przypisuję etykiety wszystkim zdaniom i całym opiniom:"
   ]
  },
  {
   "cell_type": "code",
   "execution_count": 8,
   "metadata": {},
   "outputs": [
    {
     "name": "stderr",
     "output_type": "stream",
     "text": [
      "  1%|          | 1/168 [00:00<00:18,  8.87it/s]You seem to be using the pipelines sequentially on GPU. In order to maximize efficiency please use a dataset\n",
      " 17%|█▋        | 28/168 [00:04<00:23,  5.92it/s]Token indices sequence length is longer than the specified maximum sequence length for this model (1588 > 512). Running this sequence through the model will result in indexing errors\n",
      "100%|██████████| 168/168 [00:27<00:00,  6.10it/s]\n"
     ]
    }
   ],
   "source": [
    "from tqdm import tqdm\n",
    "\n",
    "out_table = pd.read_csv('2024-emotion-recognition\\out-header.tsv', sep='\\t')\n",
    "preds_dict = out_table.to_dict(orient='list')\n",
    "\n",
    "for rev in tqdm(texts):\n",
    "    sents = rev.split('\\n')\n",
    "    for sent in sents:\n",
    "        transform_results(nlp(sent), preds_dict)\n",
    "    try:\n",
    "        transform_results(nlp(rev), preds_dict)\n",
    "    except RuntimeError as r:\n",
    "        frac = runtime_handle(r.args[0])\n",
    "        transform_results(nlp(rev[:round(len(rev)*frac)]), preds_dict)\n",
    "    \n",
    "out_table = pd.DataFrame(preds_dict).astype('bool')"
   ]
  },
  {
   "cell_type": "markdown",
   "metadata": {},
   "source": [
    "Zapisuję do pliku:"
   ]
  },
  {
   "cell_type": "code",
   "execution_count": 9,
   "metadata": {},
   "outputs": [],
   "source": [
    "out_table.to_csv('test_B.tsv', sep='\\t', index=False)"
   ]
  }
 ],
 "metadata": {
  "kernelspec": {
   "display_name": ".venv",
   "language": "python",
   "name": "python3"
  },
  "language_info": {
   "codemirror_mode": {
    "name": "ipython",
    "version": 3
   },
   "file_extension": ".py",
   "mimetype": "text/x-python",
   "name": "python",
   "nbconvert_exporter": "python",
   "pygments_lexer": "ipython3",
   "version": "3.11.9"
  }
 },
 "nbformat": 4,
 "nbformat_minor": 2
}
